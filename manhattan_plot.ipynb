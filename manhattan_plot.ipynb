{
 "cells": [
  {
   "cell_type": "code",
   "execution_count": 10,
   "metadata": {},
   "outputs": [
    {
     "name": "stdout",
     "output_type": "stream",
     "text": [
      "6.735100518422937\n",
      "   CHR         SNP       BP A1 TEST  NMISS      OR    STAT       P\n",
      "0    1   rs3934834  1045729  T  ADD   4800  0.9785 -0.4540  0.6499\n",
      "1    1   rs6687776  1070488  T  ADD   4800  1.0110  0.2342  0.8148\n",
      "2    1   rs9651273  1071463  A  ADD   4800  0.9909 -0.2141  0.8305\n",
      "3    1  rs12726255  1089873  G  ADD   4800  1.0000  0.0000  1.0000\n",
      "4    1   rs2298217  1104902  T  ADD   4800  1.0210  0.3076  0.7584\n"
     ]
    },
    {
     "data": {
      "image/png": "[encoded data removed]",
      "text/plain": [
       "<Figure size 432x288 with 1 Axes>"
      ]
     },
     "metadata": {
      "needs_background": "light"
     },
     "output_type": "display_data"
    }
   ],
   "source": [
    "%matplotlib inline\n",
    "\n",
    "import pandas as pd\n",
    "import matplotlib.pyplot as plt\n",
    "import numpy as np\n",
    "\n",
    "associations_file = 'C:/plink/plink.assoc.logistic'\n",
    "\n",
    "df = pd.read_csv(associations_file, sep='\\\\s+')\n",
    "\n",
    "bonferroni_cutoff = -np.log10(1.840346e-07)\n",
    "print(bonferroni_cutoff)\n",
    "\n",
    "print(df.head())\n",
    "\n",
    "df['ind'] = range(len(df))\n",
    "df['log_p'] = -np.log10(df['P'])\n",
    "df_grouped = df.groupby(('CHR'))\n",
    "\n",
    "\n",
    "fig = plt.figure()\n",
    "ax = fig.add_subplot(111)\n",
    "\n",
    "colors = ['#E24E42','#008F95']\n",
    "x_labels = []\n",
    "x_labels_pos = []\n",
    "\n",
    "for num, (name, group) in enumerate(df_grouped):\n",
    "    group.plot(kind='scatter', x='ind', y='log_p', color=colors[num % len(colors)], ax=ax, s=5)\n",
    "    x_labels.append(name)\n",
    "#     print(group)\n",
    "    x_labels_pos.append((group['ind'].iloc[-1] - (group['ind'].iloc[-1] - group['ind'].iloc[0]) / 2))\n",
    "    \n",
    "ax.set_xticks(x_labels_pos)\n",
    "ax.set_xticklabels(x_labels)\n",
    "ax.set_xlim([0, len(df)])\n",
    "# ax.set_ylim([0, 7])\n",
    "ax.set_xlabel('Chromosome')\n",
    "ax.axhline(y=bonferroni_cutoff, linestyle='dashed')\n",
    "\n",
    "plt.xticks(fontsize = 8,rotation=60)\n",
    "plt.yticks(fontsize = 8)\n",
    "\n",
    "# xticks = ax.xaxis.get_major_ticks()\n",
    "# xticks[0].set_visible(False)\n",
    "\n",
    "plt.show()"
   ]
  },
  {
   "cell_type": "code",
   "execution_count": null,
   "metadata": {},
   "outputs": [],
   "source": []
  }
 ],
 "metadata": {
  "kernelspec": {
   "display_name": "Python [conda env:anaconda3] *",
   "language": "python",
   "name": "conda-env-anaconda3-py"
  },
  "language_info": {
   "codemirror_mode": {
    "name": "ipython",
    "version": 3
   },
   "file_extension": ".py",
   "mimetype": "text/x-python",
   "name": "python",
   "nbconvert_exporter": "python",
   "pygments_lexer": "ipython3",
   "version": "3.7.3"
  }
 },
 "nbformat": 4,
 "nbformat_minor": 2
}
