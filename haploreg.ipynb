{
 "cells": [
  {
   "cell_type": "code",
   "execution_count": 24,
   "metadata": {},
   "outputs": [],
   "source": [
    "import pandas as pd \n",
    "import numpy as np"
   ]
  },
  {
   "cell_type": "code",
   "execution_count": 56,
   "metadata": {},
   "outputs": [],
   "source": [
    "read= pd.read_csv('plink2P.txt',sep='\\s+')"
   ]
  },
  {
   "cell_type": "code",
   "execution_count": 57,
   "metadata": {},
   "outputs": [
    {
     "data": {
      "text/html": [
       "<div>\n",
       "<style scoped>\n",
       "    .dataframe tbody tr th:only-of-type {\n",
       "        vertical-align: middle;\n",
       "    }\n",
       "\n",
       "    .dataframe tbody tr th {\n",
       "        vertical-align: top;\n",
       "    }\n",
       "\n",
       "    .dataframe thead th {\n",
       "        text-align: right;\n",
       "    }\n",
       "</style>\n",
       "<table border=\"1\" class=\"dataframe\">\n",
       "  <thead>\n",
       "    <tr style=\"text-align: right;\">\n",
       "      <th></th>\n",
       "      <th>#CHROM</th>\n",
       "      <th>POS</th>\n",
       "      <th>ID</th>\n",
       "      <th>REF</th>\n",
       "      <th>ALT</th>\n",
       "      <th>A1</th>\n",
       "      <th>TEST</th>\n",
       "      <th>OBS_CT</th>\n",
       "      <th>OR</th>\n",
       "      <th>LOG(OR)_SE</th>\n",
       "      <th>Z_STAT</th>\n",
       "      <th>P</th>\n",
       "    </tr>\n",
       "  </thead>\n",
       "  <tbody>\n",
       "    <tr>\n",
       "      <th>0</th>\n",
       "      <td>1</td>\n",
       "      <td>1045729</td>\n",
       "      <td>rs3934834</td>\n",
       "      <td>C</td>\n",
       "      <td>T</td>\n",
       "      <td>T</td>\n",
       "      <td>ADD</td>\n",
       "      <td>4000</td>\n",
       "      <td>0.994453</td>\n",
       "      <td>0.060889</td>\n",
       "      <td>-0.091360</td>\n",
       "      <td>0.927206</td>\n",
       "    </tr>\n",
       "    <tr>\n",
       "      <th>1</th>\n",
       "      <td>1</td>\n",
       "      <td>1070488</td>\n",
       "      <td>rs6687776</td>\n",
       "      <td>C</td>\n",
       "      <td>T</td>\n",
       "      <td>T</td>\n",
       "      <td>ADD</td>\n",
       "      <td>4000</td>\n",
       "      <td>0.985225</td>\n",
       "      <td>0.086281</td>\n",
       "      <td>-0.172520</td>\n",
       "      <td>0.863029</td>\n",
       "    </tr>\n",
       "    <tr>\n",
       "      <th>2</th>\n",
       "      <td>1</td>\n",
       "      <td>1071463</td>\n",
       "      <td>rs9651273</td>\n",
       "      <td>G</td>\n",
       "      <td>A</td>\n",
       "      <td>A</td>\n",
       "      <td>ADD</td>\n",
       "      <td>4000</td>\n",
       "      <td>0.980704</td>\n",
       "      <td>0.046531</td>\n",
       "      <td>-0.418736</td>\n",
       "      <td>0.675409</td>\n",
       "    </tr>\n",
       "    <tr>\n",
       "      <th>3</th>\n",
       "      <td>1</td>\n",
       "      <td>1089873</td>\n",
       "      <td>rs12726255</td>\n",
       "      <td>A</td>\n",
       "      <td>G</td>\n",
       "      <td>G</td>\n",
       "      <td>ADD</td>\n",
       "      <td>4000</td>\n",
       "      <td>1.014170</td>\n",
       "      <td>0.096860</td>\n",
       "      <td>0.145266</td>\n",
       "      <td>0.884501</td>\n",
       "    </tr>\n",
       "    <tr>\n",
       "      <th>4</th>\n",
       "      <td>1</td>\n",
       "      <td>1104902</td>\n",
       "      <td>rs2298217</td>\n",
       "      <td>C</td>\n",
       "      <td>T</td>\n",
       "      <td>T</td>\n",
       "      <td>ADD</td>\n",
       "      <td>4000</td>\n",
       "      <td>1.016780</td>\n",
       "      <td>0.074477</td>\n",
       "      <td>0.223411</td>\n",
       "      <td>0.823216</td>\n",
       "    </tr>\n",
       "  </tbody>\n",
       "</table>\n",
       "</div>"
      ],
      "text/plain": [
       "   #CHROM      POS          ID REF ALT A1 TEST  OBS_CT        OR  LOG(OR)_SE  \\\n",
       "0       1  1045729   rs3934834   C   T  T  ADD    4000  0.994453    0.060889   \n",
       "1       1  1070488   rs6687776   C   T  T  ADD    4000  0.985225    0.086281   \n",
       "2       1  1071463   rs9651273   G   A  A  ADD    4000  0.980704    0.046531   \n",
       "3       1  1089873  rs12726255   A   G  G  ADD    4000  1.014170    0.096860   \n",
       "4       1  1104902   rs2298217   C   T  T  ADD    4000  1.016780    0.074477   \n",
       "\n",
       "     Z_STAT         P  \n",
       "0 -0.091360  0.927206  \n",
       "1 -0.172520  0.863029  \n",
       "2 -0.418736  0.675409  \n",
       "3  0.145266  0.884501  \n",
       "4  0.223411  0.823216  "
      ]
     },
     "execution_count": 57,
     "metadata": {},
     "output_type": "execute_result"
    }
   ],
   "source": [
    "read.head()"
   ]
  },
  {
   "cell_type": "code",
   "execution_count": 60,
   "metadata": {},
   "outputs": [],
   "source": [
    "INT=read[read['P']<10 ** -8]"
   ]
  },
  {
   "cell_type": "code",
   "execution_count": 79,
   "metadata": {},
   "outputs": [
    {
     "name": "stdout",
     "output_type": "stream",
     "text": [
      "count is:59\n",
      "100627\n",
      "#CHROM                  6\n",
      "POS              32521295\n",
      "ID              rs2395182\n",
      "REF                     T\n",
      "ALT                     G\n",
      "A1                      G\n",
      "TEST                  ADD\n",
      "OBS_CT               4000\n",
      "OR               0.417969\n",
      "LOG(OR)_SE      0.0529608\n",
      "Z_STAT           -16.4716\n",
      "P             5.87347e-61\n",
      "Name: 100627, dtype: object\n"
     ]
    }
   ],
   "source": [
    "print('count is:{}'.format(INT.count()[0]))\n",
    "print(INT['P'].idxmin())\n",
    "print(INT.loc[100627])\n",
    "\n"
   ]
  },
  {
   "cell_type": "code",
   "execution_count": 80,
   "metadata": {},
   "outputs": [],
   "source": [
    "snp = INT['ID'].tolist()"
   ]
  },
  {
   "cell_type": "code",
   "execution_count": 81,
   "metadata": {},
   "outputs": [
    {
     "data": {
      "text/plain": [
       "['rs2176717',\n",
       " 'rs882300',\n",
       " 'rs2546890',\n",
       " 'rs535586',\n",
       " 'rs659445',\n",
       " 'rs2072633',\n",
       " 'rs437179',\n",
       " 'rs592229',\n",
       " 'rs389883',\n",
       " 'rs1053924',\n",
       " 'rs3134603']"
      ]
     },
     "execution_count": 81,
     "metadata": {},
     "output_type": "execute_result"
    }
   ],
   "source": [
    "snp[0:11]"
   ]
  },
  {
   "cell_type": "code",
   "execution_count": 82,
   "metadata": {},
   "outputs": [
    {
     "data": {
      "text/plain": [
       "list"
      ]
     },
     "execution_count": 82,
     "metadata": {},
     "output_type": "execute_result"
    }
   ],
   "source": [
    "type(snp)"
   ]
  },
  {
   "cell_type": "code",
   "execution_count": 83,
   "metadata": {},
   "outputs": [],
   "source": [
    "with open('significantsnp.txt', 'w') as f:\n",
    "    for item in snp:\n",
    "        f.write(\"%s\\n\" % item)"
   ]
  },
  {
   "cell_type": "code",
   "execution_count": 48,
   "metadata": {},
   "outputs": [
    {
     "data": {
      "text/plain": [
       "[]"
      ]
     },
     "execution_count": 48,
     "metadata": {},
     "output_type": "execute_result"
    }
   ],
   "source": []
  },
  {
   "cell_type": "code",
   "execution_count": null,
   "metadata": {},
   "outputs": [],
   "source": []
  }
 ],
 "metadata": {
  "kernelspec": {
   "display_name": "Python 3",
   "language": "python",
   "name": "python3"
  },
  "language_info": {
   "codemirror_mode": {
    "name": "ipython",
    "version": 3
   },
   "file_extension": ".py",
   "mimetype": "text/x-python",
   "name": "python",
   "nbconvert_exporter": "python",
   "pygments_lexer": "ipython3",
   "version": "3.7.3"
  }
 },
 "nbformat": 4,
 "nbformat_minor": 2
}
